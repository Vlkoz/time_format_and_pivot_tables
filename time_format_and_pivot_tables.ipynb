{
 "cells": [
  {
   "cell_type": "markdown",
   "metadata": {},
   "source": [
    "### Работа с форматом времени и сводными таблицами"
   ]
  },
  {
   "cell_type": "markdown",
   "metadata": {},
   "source": [
    "Имеются следующие данные о транзакциях в период с 01.12.2010 по 12.09.2011:\n",
    "\n",
    "InvoiceNo — номер транзакции  \n",
    "StockCode — код товара  \n",
    "Description — описание товара  \n",
    "Quantity — количество единиц товара, добавленных в заказ  \n",
    "InvoiceDate — дата транзакции  \n",
    "UnitPrice — цена за единицу товара  \n",
    "CustomerID — id клиента  \n",
    "Country — страна, где проживает клиент  \n",
    "Данные можно скачать отсюда.  \n",
    "\n",
    "В данной задаче ссылка для считывания данных лежит в переменной path_to_file.  \n",
    "#### 1. Импортируйте пандас и прочитайте данные с кодировкой ISO-8859-1.  \n",
    "#### Запишите полученный датафрейм в retail, а названия колонок сохраните в переменную retail_columns."
   ]
  },
  {
   "cell_type": "code",
   "execution_count": 217,
   "metadata": {},
   "outputs": [],
   "source": [
    "import pandas as pd\n",
    "import seaborn as sns\n",
    "import matplotlib.pyplot as plt\n",
    "\n",
    "%matplotlib inline \n",
    "import warnings"
   ]
  },
  {
   "cell_type": "markdown",
   "metadata": {},
   "source": [
    "Запишем путь к файлу в переменную"
   ]
  },
  {
   "cell_type": "code",
   "execution_count": 218,
   "metadata": {},
   "outputs": [],
   "source": [
    "path_to_file = 'https://raw.githubusercontent.com/Vlkoz/time_format_and_pivot_tables/main/files/5_data.csv.zip'"
   ]
  },
  {
   "cell_type": "markdown",
   "metadata": {},
   "source": [
    "Считаем файл"
   ]
  },
  {
   "cell_type": "code",
   "execution_count": 219,
   "metadata": {},
   "outputs": [],
   "source": [
    "retail = pd.read_csv(path_to_file, compression = 'zip', encoding = 'ISO-8859-1')"
   ]
  },
  {
   "cell_type": "code",
   "execution_count": 220,
   "metadata": {},
   "outputs": [],
   "source": [
    "retail_columns = retail.columns"
   ]
  },
  {
   "cell_type": "markdown",
   "metadata": {},
   "source": [
    "#### 2. Проверьте, встречаются ли в данных повторяющиеся наблюдения, и в качестве ответа укажите их количество. Если они есть, то удалите их из retail."
   ]
  },
  {
   "cell_type": "code",
   "execution_count": 221,
   "metadata": {},
   "outputs": [],
   "source": [
    "old_st = retail.shape"
   ]
  },
  {
   "cell_type": "code",
   "execution_count": 222,
   "metadata": {},
   "outputs": [
    {
     "data": {
      "text/plain": [
       "(541909, 8)"
      ]
     },
     "execution_count": 222,
     "metadata": {},
     "output_type": "execute_result"
    }
   ],
   "source": [
    "old_st"
   ]
  },
  {
   "cell_type": "markdown",
   "metadata": {},
   "source": [
    "Посчитаем количество строк и столбцов, удалив дубликаты"
   ]
  },
  {
   "cell_type": "code",
   "execution_count": 223,
   "metadata": {},
   "outputs": [],
   "source": [
    "new_st = retail.drop_duplicates().shape"
   ]
  },
  {
   "cell_type": "code",
   "execution_count": 224,
   "metadata": {},
   "outputs": [
    {
     "data": {
      "text/plain": [
       "(536641, 8)"
      ]
     },
     "execution_count": 224,
     "metadata": {},
     "output_type": "execute_result"
    }
   ],
   "source": [
    "new_st"
   ]
  },
  {
   "cell_type": "markdown",
   "metadata": {},
   "source": [
    "Перезапишем df, удалив дубликаты"
   ]
  },
  {
   "cell_type": "code",
   "execution_count": 225,
   "metadata": {},
   "outputs": [],
   "source": [
    "retail=retail.drop_duplicates()"
   ]
  },
  {
   "cell_type": "markdown",
   "metadata": {},
   "source": [
    "Посчитаем разницу строк между двумя df"
   ]
  },
  {
   "cell_type": "code",
   "execution_count": 226,
   "metadata": {},
   "outputs": [],
   "source": [
    "dubl = old_st[0]-new_st[0]"
   ]
  },
  {
   "cell_type": "code",
   "execution_count": 227,
   "metadata": {},
   "outputs": [
    {
     "data": {
      "text/plain": [
       "5268"
      ]
     },
     "execution_count": 227,
     "metadata": {},
     "output_type": "execute_result"
    }
   ],
   "source": [
    "dubl"
   ]
  },
  {
   "cell_type": "markdown",
   "metadata": {},
   "source": [
    "#### 3. ⭐️ Задание со звёздочкой! ⭐️\n",
    "\n",
    "Данные содержат в себе записи как об успешных транзакциях, так и об отмененных. Если пользователь отменил заказ, в начале номера транзакции (InvoiceNo) ставится C (canceled). \n",
    "\n",
    "#### Сколько всего транзакций отменили пользователи? Каждый отдельный тип продукта считайте за отдельную транзакцию - уникальные номера считать не надо."
   ]
  },
  {
   "cell_type": "markdown",
   "metadata": {},
   "source": [
    "Возьмём строковый метод startswith чтобы отобрать отмененные заказы, посчитаем количество таких заказов"
   ]
  },
  {
   "cell_type": "code",
   "execution_count": 228,
   "metadata": {},
   "outputs": [
    {
     "data": {
      "text/plain": [
       "9251"
      ]
     },
     "execution_count": 228,
     "metadata": {},
     "output_type": "execute_result"
    }
   ],
   "source": [
    "retail.InvoiceNo.str.startswith('C').sum()"
   ]
  },
  {
   "cell_type": "markdown",
   "metadata": {},
   "source": [
    "#### 4. Теперь отфильтруйте данные и оставьте в retail только те заказы, где Quantity > 0. В качестве ответа укажите число оставшихся строк."
   ]
  },
  {
   "cell_type": "markdown",
   "metadata": {},
   "source": [
    "Отберем только строки, где quantity больше нуля, перезапишем df"
   ]
  },
  {
   "cell_type": "code",
   "execution_count": 229,
   "metadata": {},
   "outputs": [],
   "source": [
    "retail = retail.query(\"Quantity>0\")"
   ]
  },
  {
   "cell_type": "markdown",
   "metadata": {},
   "source": [
    "Посчитаем количество строк"
   ]
  },
  {
   "cell_type": "code",
   "execution_count": 230,
   "metadata": {},
   "outputs": [
    {
     "data": {
      "text/plain": [
       "(526054, 8)"
      ]
     },
     "execution_count": 230,
     "metadata": {},
     "output_type": "execute_result"
    }
   ],
   "source": [
    "retail.shape"
   ]
  },
  {
   "cell_type": "markdown",
   "metadata": {},
   "source": [
    "#### 5. 💀 Сложное задание! 💀\n",
    "\n",
    "#### Посчитайте число заказов для каждого пользователя (CustomerID) из Германии (Germany). Оставьте только тех, кто совершил более N транзакций (InvoiceNo), где N – 80% процентиль. Запишите полученные id пользователей в germany_top (не весь датафрейм, только id).\n",
    "\n",
    "#### Отфильтрованные данные записаны в retail. Идентификатор заказа – InvoiceNo. Для каждого заказа в данных может встречаться более 1 строки."
   ]
  },
  {
   "cell_type": "markdown",
   "metadata": {},
   "source": [
    "Сначала применим фильтр, и возьмём клиентов из Германии  \n",
    "Сгруппируем по id пользователя и посчитаем количество уникальных заказов  "
   ]
  },
  {
   "cell_type": "code",
   "execution_count": 231,
   "metadata": {},
   "outputs": [],
   "source": [
    "germany_clients =retail.query(\"Country == 'Germany'\") \\\n",
    "    .groupby('CustomerID', as_index = False) \\\n",
    "    .agg({'InvoiceNo': 'nunique'})     "
   ]
  },
  {
   "cell_type": "markdown",
   "metadata": {},
   "source": [
    "В получившемся df найдем 80 процентиль по количеству заказов"
   ]
  },
  {
   "cell_type": "code",
   "execution_count": 232,
   "metadata": {},
   "outputs": [
    {
     "data": {
      "text/plain": [
       "7.0"
      ]
     },
     "execution_count": 232,
     "metadata": {},
     "output_type": "execute_result"
    }
   ],
   "source": [
    "germany_clients.InvoiceNo.quantile(q=0.8)"
   ]
  },
  {
   "cell_type": "markdown",
   "metadata": {},
   "source": [
    "Отберем только тех клиентов, у которых количество покупок больше 7"
   ]
  },
  {
   "cell_type": "code",
   "execution_count": 233,
   "metadata": {},
   "outputs": [],
   "source": [
    "Germany_top_cl = germany_clients.query(\"InvoiceNo >7\") \\\n",
    "    .reset_index(drop=True)"
   ]
  },
  {
   "cell_type": "markdown",
   "metadata": {},
   "source": [
    "Запишем id этих клиентов в переменную germany_top"
   ]
  },
  {
   "cell_type": "code",
   "execution_count": 234,
   "metadata": {},
   "outputs": [],
   "source": [
    "germany_top = Germany_top_cl.CustomerID"
   ]
  },
  {
   "cell_type": "markdown",
   "metadata": {},
   "source": [
    "#### 6. ⭐️ Задание со звёздочкой! ⭐️\n",
    "\n",
    "#### Используя объект с id пользователей (germany_top), полученный на предыдущем шаге, отфильтруйте наблюдения и оставьте в данных записи только по интересующим нас юзерам. Результирующий датафрейм запишите в top_retail_germany.\n",
    "\n",
    "#### Датафрейм записан в retail, нужные id пользователей – в germany_top ."
   ]
  },
  {
   "cell_type": "markdown",
   "metadata": {},
   "source": [
    "Отберем только тех пользователей, которые записаны в переменной germany_top  \n",
    "Для этого используем 'in' и '@' в query.  "
   ]
  },
  {
   "cell_type": "code",
   "execution_count": 235,
   "metadata": {},
   "outputs": [],
   "source": [
    "top_retail_germany = retail.query(\"CustomerID in @germany_top\")"
   ]
  },
  {
   "cell_type": "code",
   "execution_count": 236,
   "metadata": {},
   "outputs": [
    {
     "data": {
      "text/html": [
       "<div>\n",
       "<style scoped>\n",
       "    .dataframe tbody tr th:only-of-type {\n",
       "        vertical-align: middle;\n",
       "    }\n",
       "\n",
       "    .dataframe tbody tr th {\n",
       "        vertical-align: top;\n",
       "    }\n",
       "\n",
       "    .dataframe thead th {\n",
       "        text-align: right;\n",
       "    }\n",
       "</style>\n",
       "<table border=\"1\" class=\"dataframe\">\n",
       "  <thead>\n",
       "    <tr style=\"text-align: right;\">\n",
       "      <th></th>\n",
       "      <th>InvoiceNo</th>\n",
       "      <th>StockCode</th>\n",
       "      <th>Description</th>\n",
       "      <th>Quantity</th>\n",
       "      <th>InvoiceDate</th>\n",
       "      <th>UnitPrice</th>\n",
       "      <th>CustomerID</th>\n",
       "      <th>Country</th>\n",
       "    </tr>\n",
       "  </thead>\n",
       "  <tbody>\n",
       "    <tr>\n",
       "      <th>1109</th>\n",
       "      <td>536527</td>\n",
       "      <td>22809</td>\n",
       "      <td>SET OF 6 T-LIGHTS SANTA</td>\n",
       "      <td>6</td>\n",
       "      <td>12/1/2010 13:04</td>\n",
       "      <td>2.95</td>\n",
       "      <td>12662.0</td>\n",
       "      <td>Germany</td>\n",
       "    </tr>\n",
       "    <tr>\n",
       "      <th>1110</th>\n",
       "      <td>536527</td>\n",
       "      <td>84347</td>\n",
       "      <td>ROTATING SILVER ANGELS T-LIGHT HLDR</td>\n",
       "      <td>6</td>\n",
       "      <td>12/1/2010 13:04</td>\n",
       "      <td>2.55</td>\n",
       "      <td>12662.0</td>\n",
       "      <td>Germany</td>\n",
       "    </tr>\n",
       "    <tr>\n",
       "      <th>1111</th>\n",
       "      <td>536527</td>\n",
       "      <td>84945</td>\n",
       "      <td>MULTI COLOUR SILVER T-LIGHT HOLDER</td>\n",
       "      <td>12</td>\n",
       "      <td>12/1/2010 13:04</td>\n",
       "      <td>0.85</td>\n",
       "      <td>12662.0</td>\n",
       "      <td>Germany</td>\n",
       "    </tr>\n",
       "    <tr>\n",
       "      <th>1112</th>\n",
       "      <td>536527</td>\n",
       "      <td>22242</td>\n",
       "      <td>5 HOOK HANGER MAGIC TOADSTOOL</td>\n",
       "      <td>12</td>\n",
       "      <td>12/1/2010 13:04</td>\n",
       "      <td>1.65</td>\n",
       "      <td>12662.0</td>\n",
       "      <td>Germany</td>\n",
       "    </tr>\n",
       "    <tr>\n",
       "      <th>1113</th>\n",
       "      <td>536527</td>\n",
       "      <td>22244</td>\n",
       "      <td>3 HOOK HANGER MAGIC GARDEN</td>\n",
       "      <td>12</td>\n",
       "      <td>12/1/2010 13:04</td>\n",
       "      <td>1.95</td>\n",
       "      <td>12662.0</td>\n",
       "      <td>Germany</td>\n",
       "    </tr>\n",
       "    <tr>\n",
       "      <th>...</th>\n",
       "      <td>...</td>\n",
       "      <td>...</td>\n",
       "      <td>...</td>\n",
       "      <td>...</td>\n",
       "      <td>...</td>\n",
       "      <td>...</td>\n",
       "      <td>...</td>\n",
       "      <td>...</td>\n",
       "    </tr>\n",
       "    <tr>\n",
       "      <th>541726</th>\n",
       "      <td>581570</td>\n",
       "      <td>22139</td>\n",
       "      <td>RETROSPOT TEA SET CERAMIC 11 PC</td>\n",
       "      <td>3</td>\n",
       "      <td>12/9/2011 11:59</td>\n",
       "      <td>4.95</td>\n",
       "      <td>12662.0</td>\n",
       "      <td>Germany</td>\n",
       "    </tr>\n",
       "    <tr>\n",
       "      <th>541727</th>\n",
       "      <td>581570</td>\n",
       "      <td>23077</td>\n",
       "      <td>DOUGHNUT LIP GLOSS</td>\n",
       "      <td>20</td>\n",
       "      <td>12/9/2011 11:59</td>\n",
       "      <td>1.25</td>\n",
       "      <td>12662.0</td>\n",
       "      <td>Germany</td>\n",
       "    </tr>\n",
       "    <tr>\n",
       "      <th>541728</th>\n",
       "      <td>581570</td>\n",
       "      <td>20750</td>\n",
       "      <td>RED RETROSPOT MINI CASES</td>\n",
       "      <td>2</td>\n",
       "      <td>12/9/2011 11:59</td>\n",
       "      <td>7.95</td>\n",
       "      <td>12662.0</td>\n",
       "      <td>Germany</td>\n",
       "    </tr>\n",
       "    <tr>\n",
       "      <th>541729</th>\n",
       "      <td>581570</td>\n",
       "      <td>22505</td>\n",
       "      <td>MEMO BOARD COTTAGE DESIGN</td>\n",
       "      <td>4</td>\n",
       "      <td>12/9/2011 11:59</td>\n",
       "      <td>4.95</td>\n",
       "      <td>12662.0</td>\n",
       "      <td>Germany</td>\n",
       "    </tr>\n",
       "    <tr>\n",
       "      <th>541730</th>\n",
       "      <td>581570</td>\n",
       "      <td>POST</td>\n",
       "      <td>POSTAGE</td>\n",
       "      <td>1</td>\n",
       "      <td>12/9/2011 11:59</td>\n",
       "      <td>18.00</td>\n",
       "      <td>12662.0</td>\n",
       "      <td>Germany</td>\n",
       "    </tr>\n",
       "  </tbody>\n",
       "</table>\n",
       "<p>4175 rows × 8 columns</p>\n",
       "</div>"
      ],
      "text/plain": [
       "       InvoiceNo StockCode                          Description  Quantity  \\\n",
       "1109      536527     22809              SET OF 6 T-LIGHTS SANTA         6   \n",
       "1110      536527     84347  ROTATING SILVER ANGELS T-LIGHT HLDR         6   \n",
       "1111      536527     84945   MULTI COLOUR SILVER T-LIGHT HOLDER        12   \n",
       "1112      536527     22242        5 HOOK HANGER MAGIC TOADSTOOL        12   \n",
       "1113      536527     22244           3 HOOK HANGER MAGIC GARDEN        12   \n",
       "...          ...       ...                                  ...       ...   \n",
       "541726    581570     22139     RETROSPOT TEA SET CERAMIC 11 PC          3   \n",
       "541727    581570     23077                  DOUGHNUT LIP GLOSS         20   \n",
       "541728    581570     20750             RED RETROSPOT MINI CASES         2   \n",
       "541729    581570     22505            MEMO BOARD COTTAGE DESIGN         4   \n",
       "541730    581570      POST                              POSTAGE         1   \n",
       "\n",
       "            InvoiceDate  UnitPrice  CustomerID  Country  \n",
       "1109    12/1/2010 13:04       2.95     12662.0  Germany  \n",
       "1110    12/1/2010 13:04       2.55     12662.0  Germany  \n",
       "1111    12/1/2010 13:04       0.85     12662.0  Germany  \n",
       "1112    12/1/2010 13:04       1.65     12662.0  Germany  \n",
       "1113    12/1/2010 13:04       1.95     12662.0  Germany  \n",
       "...                 ...        ...         ...      ...  \n",
       "541726  12/9/2011 11:59       4.95     12662.0  Germany  \n",
       "541727  12/9/2011 11:59       1.25     12662.0  Germany  \n",
       "541728  12/9/2011 11:59       7.95     12662.0  Germany  \n",
       "541729  12/9/2011 11:59       4.95     12662.0  Germany  \n",
       "541730  12/9/2011 11:59      18.00     12662.0  Germany  \n",
       "\n",
       "[4175 rows x 8 columns]"
      ]
     },
     "execution_count": 236,
     "metadata": {},
     "output_type": "execute_result"
    }
   ],
   "source": [
    "top_retail_germany"
   ]
  },
  {
   "cell_type": "markdown",
   "metadata": {},
   "source": [
    "#### 7. Сгруппируйте top_retail_germany по коду товара (StockCode).  \n",
    "#### Какой из продуктов добавляли в корзину чаще всего, кроме POST? \n",
    "\n",
    "#### Note: одним заказом считается единовременная покупка любого количества товара, т.е. без учета Quantity."
   ]
  },
  {
   "cell_type": "markdown",
   "metadata": {},
   "source": [
    "Посмотрим по каждому коду товара количество добавлений в корзину.  \n",
    "Отсортируем по убыванию"
   ]
  },
  {
   "cell_type": "code",
   "execution_count": 237,
   "metadata": {},
   "outputs": [
    {
     "data": {
      "text/html": [
       "<div>\n",
       "<style scoped>\n",
       "    .dataframe tbody tr th:only-of-type {\n",
       "        vertical-align: middle;\n",
       "    }\n",
       "\n",
       "    .dataframe tbody tr th {\n",
       "        vertical-align: top;\n",
       "    }\n",
       "\n",
       "    .dataframe thead th {\n",
       "        text-align: right;\n",
       "    }\n",
       "</style>\n",
       "<table border=\"1\" class=\"dataframe\">\n",
       "  <thead>\n",
       "    <tr style=\"text-align: right;\">\n",
       "      <th></th>\n",
       "      <th>Description</th>\n",
       "    </tr>\n",
       "    <tr>\n",
       "      <th>StockCode</th>\n",
       "      <th></th>\n",
       "    </tr>\n",
       "  </thead>\n",
       "  <tbody>\n",
       "    <tr>\n",
       "      <th>POST</th>\n",
       "      <td>213</td>\n",
       "    </tr>\n",
       "    <tr>\n",
       "      <th>22326</th>\n",
       "      <td>52</td>\n",
       "    </tr>\n",
       "    <tr>\n",
       "      <th>22328</th>\n",
       "      <td>38</td>\n",
       "    </tr>\n",
       "    <tr>\n",
       "      <th>22423</th>\n",
       "      <td>34</td>\n",
       "    </tr>\n",
       "    <tr>\n",
       "      <th>20719</th>\n",
       "      <td>30</td>\n",
       "    </tr>\n",
       "    <tr>\n",
       "      <th>...</th>\n",
       "      <td>...</td>\n",
       "    </tr>\n",
       "    <tr>\n",
       "      <th>22563</th>\n",
       "      <td>1</td>\n",
       "    </tr>\n",
       "    <tr>\n",
       "      <th>22569</th>\n",
       "      <td>1</td>\n",
       "    </tr>\n",
       "    <tr>\n",
       "      <th>22574</th>\n",
       "      <td>1</td>\n",
       "    </tr>\n",
       "    <tr>\n",
       "      <th>22576</th>\n",
       "      <td>1</td>\n",
       "    </tr>\n",
       "    <tr>\n",
       "      <th>22662</th>\n",
       "      <td>1</td>\n",
       "    </tr>\n",
       "  </tbody>\n",
       "</table>\n",
       "<p>1158 rows × 1 columns</p>\n",
       "</div>"
      ],
      "text/plain": [
       "           Description\n",
       "StockCode             \n",
       "POST               213\n",
       "22326               52\n",
       "22328               38\n",
       "22423               34\n",
       "20719               30\n",
       "...                ...\n",
       "22563                1\n",
       "22569                1\n",
       "22574                1\n",
       "22576                1\n",
       "22662                1\n",
       "\n",
       "[1158 rows x 1 columns]"
      ]
     },
     "execution_count": 237,
     "metadata": {},
     "output_type": "execute_result"
    }
   ],
   "source": [
    "top_retail_germany.groupby('StockCode') \\\n",
    "    .agg({'Description': 'count'}) \\\n",
    "    .sort_values('Description', ascending = False)"
   ]
  },
  {
   "cell_type": "markdown",
   "metadata": {},
   "source": [
    "#### 8. Вернемся к анализу полного датасета retail. Создайте колонку Revenue с суммой покупки, используя колонки Quantity и UnitPrice.\n",
    "\n",
    "#### Отфильтрованные данные записаны в retail."
   ]
  },
  {
   "cell_type": "markdown",
   "metadata": {},
   "source": [
    "Создадим колонку Revenue, перемножив колонки Quantity и UnitPrice"
   ]
  },
  {
   "cell_type": "code",
   "execution_count": 238,
   "metadata": {},
   "outputs": [],
   "source": [
    "retail['Revenue'] = retail.Quantity * retail.UnitPrice\n",
    "warnings.filterwarnings('ignore')"
   ]
  },
  {
   "cell_type": "code",
   "execution_count": 239,
   "metadata": {},
   "outputs": [
    {
     "data": {
      "text/html": [
       "<div>\n",
       "<style scoped>\n",
       "    .dataframe tbody tr th:only-of-type {\n",
       "        vertical-align: middle;\n",
       "    }\n",
       "\n",
       "    .dataframe tbody tr th {\n",
       "        vertical-align: top;\n",
       "    }\n",
       "\n",
       "    .dataframe thead th {\n",
       "        text-align: right;\n",
       "    }\n",
       "</style>\n",
       "<table border=\"1\" class=\"dataframe\">\n",
       "  <thead>\n",
       "    <tr style=\"text-align: right;\">\n",
       "      <th></th>\n",
       "      <th>InvoiceNo</th>\n",
       "      <th>StockCode</th>\n",
       "      <th>Description</th>\n",
       "      <th>Quantity</th>\n",
       "      <th>InvoiceDate</th>\n",
       "      <th>UnitPrice</th>\n",
       "      <th>CustomerID</th>\n",
       "      <th>Country</th>\n",
       "      <th>Revenue</th>\n",
       "    </tr>\n",
       "  </thead>\n",
       "  <tbody>\n",
       "    <tr>\n",
       "      <th>0</th>\n",
       "      <td>536365</td>\n",
       "      <td>85123A</td>\n",
       "      <td>WHITE HANGING HEART T-LIGHT HOLDER</td>\n",
       "      <td>6</td>\n",
       "      <td>12/1/2010 8:26</td>\n",
       "      <td>2.55</td>\n",
       "      <td>17850.0</td>\n",
       "      <td>United Kingdom</td>\n",
       "      <td>15.30</td>\n",
       "    </tr>\n",
       "    <tr>\n",
       "      <th>1</th>\n",
       "      <td>536365</td>\n",
       "      <td>71053</td>\n",
       "      <td>WHITE METAL LANTERN</td>\n",
       "      <td>6</td>\n",
       "      <td>12/1/2010 8:26</td>\n",
       "      <td>3.39</td>\n",
       "      <td>17850.0</td>\n",
       "      <td>United Kingdom</td>\n",
       "      <td>20.34</td>\n",
       "    </tr>\n",
       "    <tr>\n",
       "      <th>2</th>\n",
       "      <td>536365</td>\n",
       "      <td>84406B</td>\n",
       "      <td>CREAM CUPID HEARTS COAT HANGER</td>\n",
       "      <td>8</td>\n",
       "      <td>12/1/2010 8:26</td>\n",
       "      <td>2.75</td>\n",
       "      <td>17850.0</td>\n",
       "      <td>United Kingdom</td>\n",
       "      <td>22.00</td>\n",
       "    </tr>\n",
       "    <tr>\n",
       "      <th>3</th>\n",
       "      <td>536365</td>\n",
       "      <td>84029G</td>\n",
       "      <td>KNITTED UNION FLAG HOT WATER BOTTLE</td>\n",
       "      <td>6</td>\n",
       "      <td>12/1/2010 8:26</td>\n",
       "      <td>3.39</td>\n",
       "      <td>17850.0</td>\n",
       "      <td>United Kingdom</td>\n",
       "      <td>20.34</td>\n",
       "    </tr>\n",
       "    <tr>\n",
       "      <th>4</th>\n",
       "      <td>536365</td>\n",
       "      <td>84029E</td>\n",
       "      <td>RED WOOLLY HOTTIE WHITE HEART.</td>\n",
       "      <td>6</td>\n",
       "      <td>12/1/2010 8:26</td>\n",
       "      <td>3.39</td>\n",
       "      <td>17850.0</td>\n",
       "      <td>United Kingdom</td>\n",
       "      <td>20.34</td>\n",
       "    </tr>\n",
       "    <tr>\n",
       "      <th>...</th>\n",
       "      <td>...</td>\n",
       "      <td>...</td>\n",
       "      <td>...</td>\n",
       "      <td>...</td>\n",
       "      <td>...</td>\n",
       "      <td>...</td>\n",
       "      <td>...</td>\n",
       "      <td>...</td>\n",
       "      <td>...</td>\n",
       "    </tr>\n",
       "    <tr>\n",
       "      <th>541904</th>\n",
       "      <td>581587</td>\n",
       "      <td>22613</td>\n",
       "      <td>PACK OF 20 SPACEBOY NAPKINS</td>\n",
       "      <td>12</td>\n",
       "      <td>12/9/2011 12:50</td>\n",
       "      <td>0.85</td>\n",
       "      <td>12680.0</td>\n",
       "      <td>France</td>\n",
       "      <td>10.20</td>\n",
       "    </tr>\n",
       "    <tr>\n",
       "      <th>541905</th>\n",
       "      <td>581587</td>\n",
       "      <td>22899</td>\n",
       "      <td>CHILDREN'S APRON DOLLY GIRL</td>\n",
       "      <td>6</td>\n",
       "      <td>12/9/2011 12:50</td>\n",
       "      <td>2.10</td>\n",
       "      <td>12680.0</td>\n",
       "      <td>France</td>\n",
       "      <td>12.60</td>\n",
       "    </tr>\n",
       "    <tr>\n",
       "      <th>541906</th>\n",
       "      <td>581587</td>\n",
       "      <td>23254</td>\n",
       "      <td>CHILDRENS CUTLERY DOLLY GIRL</td>\n",
       "      <td>4</td>\n",
       "      <td>12/9/2011 12:50</td>\n",
       "      <td>4.15</td>\n",
       "      <td>12680.0</td>\n",
       "      <td>France</td>\n",
       "      <td>16.60</td>\n",
       "    </tr>\n",
       "    <tr>\n",
       "      <th>541907</th>\n",
       "      <td>581587</td>\n",
       "      <td>23255</td>\n",
       "      <td>CHILDRENS CUTLERY CIRCUS PARADE</td>\n",
       "      <td>4</td>\n",
       "      <td>12/9/2011 12:50</td>\n",
       "      <td>4.15</td>\n",
       "      <td>12680.0</td>\n",
       "      <td>France</td>\n",
       "      <td>16.60</td>\n",
       "    </tr>\n",
       "    <tr>\n",
       "      <th>541908</th>\n",
       "      <td>581587</td>\n",
       "      <td>22138</td>\n",
       "      <td>BAKING SET 9 PIECE RETROSPOT</td>\n",
       "      <td>3</td>\n",
       "      <td>12/9/2011 12:50</td>\n",
       "      <td>4.95</td>\n",
       "      <td>12680.0</td>\n",
       "      <td>France</td>\n",
       "      <td>14.85</td>\n",
       "    </tr>\n",
       "  </tbody>\n",
       "</table>\n",
       "<p>526054 rows × 9 columns</p>\n",
       "</div>"
      ],
      "text/plain": [
       "       InvoiceNo StockCode                          Description  Quantity  \\\n",
       "0         536365    85123A   WHITE HANGING HEART T-LIGHT HOLDER         6   \n",
       "1         536365     71053                  WHITE METAL LANTERN         6   \n",
       "2         536365    84406B       CREAM CUPID HEARTS COAT HANGER         8   \n",
       "3         536365    84029G  KNITTED UNION FLAG HOT WATER BOTTLE         6   \n",
       "4         536365    84029E       RED WOOLLY HOTTIE WHITE HEART.         6   \n",
       "...          ...       ...                                  ...       ...   \n",
       "541904    581587     22613          PACK OF 20 SPACEBOY NAPKINS        12   \n",
       "541905    581587     22899         CHILDREN'S APRON DOLLY GIRL          6   \n",
       "541906    581587     23254        CHILDRENS CUTLERY DOLLY GIRL          4   \n",
       "541907    581587     23255      CHILDRENS CUTLERY CIRCUS PARADE         4   \n",
       "541908    581587     22138        BAKING SET 9 PIECE RETROSPOT          3   \n",
       "\n",
       "            InvoiceDate  UnitPrice  CustomerID         Country  Revenue  \n",
       "0        12/1/2010 8:26       2.55     17850.0  United Kingdom    15.30  \n",
       "1        12/1/2010 8:26       3.39     17850.0  United Kingdom    20.34  \n",
       "2        12/1/2010 8:26       2.75     17850.0  United Kingdom    22.00  \n",
       "3        12/1/2010 8:26       3.39     17850.0  United Kingdom    20.34  \n",
       "4        12/1/2010 8:26       3.39     17850.0  United Kingdom    20.34  \n",
       "...                 ...        ...         ...             ...      ...  \n",
       "541904  12/9/2011 12:50       0.85     12680.0          France    10.20  \n",
       "541905  12/9/2011 12:50       2.10     12680.0          France    12.60  \n",
       "541906  12/9/2011 12:50       4.15     12680.0          France    16.60  \n",
       "541907  12/9/2011 12:50       4.15     12680.0          France    16.60  \n",
       "541908  12/9/2011 12:50       4.95     12680.0          France    14.85  \n",
       "\n",
       "[526054 rows x 9 columns]"
      ]
     },
     "execution_count": 239,
     "metadata": {},
     "output_type": "execute_result"
    }
   ],
   "source": [
    "retail"
   ]
  },
  {
   "cell_type": "markdown",
   "metadata": {},
   "source": [
    "#### 9. Для каждой транзакции (InvoiceNo), посчитайте финальную сумму заказа. В качестве ответа укажите топ-5 (InvoiceNo) по сумме заказа (через запятую с пробелом и в порядке убывания TotalRevenue)"
   ]
  },
  {
   "cell_type": "markdown",
   "metadata": {},
   "source": [
    "Найдем топ 5, сложив выручку по каждой транзакции  \n",
    "Отсортируем по убыванию  \n",
    "Выведем первые 5 значений"
   ]
  },
  {
   "cell_type": "code",
   "execution_count": 240,
   "metadata": {},
   "outputs": [
    {
     "data": {
      "text/html": [
       "<div>\n",
       "<style scoped>\n",
       "    .dataframe tbody tr th:only-of-type {\n",
       "        vertical-align: middle;\n",
       "    }\n",
       "\n",
       "    .dataframe tbody tr th {\n",
       "        vertical-align: top;\n",
       "    }\n",
       "\n",
       "    .dataframe thead th {\n",
       "        text-align: right;\n",
       "    }\n",
       "</style>\n",
       "<table border=\"1\" class=\"dataframe\">\n",
       "  <thead>\n",
       "    <tr style=\"text-align: right;\">\n",
       "      <th></th>\n",
       "      <th>InvoiceNo</th>\n",
       "      <th>TotalRevenue</th>\n",
       "    </tr>\n",
       "  </thead>\n",
       "  <tbody>\n",
       "    <tr>\n",
       "      <th>0</th>\n",
       "      <td>581483</td>\n",
       "      <td>168469.60</td>\n",
       "    </tr>\n",
       "    <tr>\n",
       "      <th>1</th>\n",
       "      <td>541431</td>\n",
       "      <td>77183.60</td>\n",
       "    </tr>\n",
       "    <tr>\n",
       "      <th>2</th>\n",
       "      <td>574941</td>\n",
       "      <td>52940.94</td>\n",
       "    </tr>\n",
       "    <tr>\n",
       "      <th>3</th>\n",
       "      <td>576365</td>\n",
       "      <td>50653.91</td>\n",
       "    </tr>\n",
       "    <tr>\n",
       "      <th>4</th>\n",
       "      <td>556444</td>\n",
       "      <td>38970.00</td>\n",
       "    </tr>\n",
       "  </tbody>\n",
       "</table>\n",
       "</div>"
      ],
      "text/plain": [
       "  InvoiceNo  TotalRevenue\n",
       "0    581483     168469.60\n",
       "1    541431      77183.60\n",
       "2    574941      52940.94\n",
       "3    576365      50653.91\n",
       "4    556444      38970.00"
      ]
     },
     "execution_count": 240,
     "metadata": {},
     "output_type": "execute_result"
    }
   ],
   "source": [
    "retail.groupby('InvoiceNo', as_index = False) \\\n",
    "    .agg({'Revenue': 'sum'}) \\\n",
    "    .rename(columns= {'Revenue': 'TotalRevenue'}) \\\n",
    "    .sort_values('TotalRevenue', ascending = False) \\\n",
    "    .reset_index(drop= True) \\\n",
    "    .head(5)"
   ]
  },
  {
   "cell_type": "markdown",
   "metadata": {},
   "source": [
    "#### 10. Имеются следующие данные:\n",
    "\n",
    "date – дата (2020-03-02 00:00:00 – 2020-03-02 01:29:05)  \n",
    "name – имя пользователя  \n",
    "transaction – статус транзакции  \n",
    "minute* – сколько минут прошло с начала дня  "
   ]
  },
  {
   "cell_type": "markdown",
   "metadata": {},
   "source": [
    "#### Загрузите датасет transaction_data.csv. Проверьте размер таблицы, типы переменных, число пропущенных значений и описательную статистику.\n",
    "\n",
    "#### Вопрос: сколько в датасете пропущенных значений?"
   ]
  },
  {
   "cell_type": "markdown",
   "metadata": {},
   "source": [
    "Загрузим датасет"
   ]
  },
  {
   "cell_type": "code",
   "execution_count": 241,
   "metadata": {},
   "outputs": [],
   "source": [
    "df = pd.read_csv('https://raw.githubusercontent.com/Vlkoz/time_format_and_pivot_tables/main/files/transaction_data.csv')"
   ]
  },
  {
   "cell_type": "markdown",
   "metadata": {},
   "source": [
    "Посчитаем количество строк и столбцов"
   ]
  },
  {
   "cell_type": "code",
   "execution_count": 242,
   "metadata": {},
   "outputs": [
    {
     "data": {
      "text/plain": [
       "(5315, 3)"
      ]
     },
     "execution_count": 242,
     "metadata": {},
     "output_type": "execute_result"
    }
   ],
   "source": [
    "df.shape"
   ]
  },
  {
   "cell_type": "markdown",
   "metadata": {},
   "source": [
    "Посмотрим типы переменных"
   ]
  },
  {
   "cell_type": "code",
   "execution_count": 243,
   "metadata": {},
   "outputs": [
    {
     "data": {
      "text/plain": [
       "date           object\n",
       "name           object\n",
       "transaction    object\n",
       "dtype: object"
      ]
     },
     "execution_count": 243,
     "metadata": {},
     "output_type": "execute_result"
    }
   ],
   "source": [
    "df.dtypes"
   ]
  },
  {
   "cell_type": "markdown",
   "metadata": {},
   "source": [
    "Посмотрим количество пропущенных значений"
   ]
  },
  {
   "cell_type": "code",
   "execution_count": 244,
   "metadata": {},
   "outputs": [
    {
     "data": {
      "text/plain": [
       "date           0\n",
       "name           0\n",
       "transaction    0\n",
       "dtype: int64"
      ]
     },
     "execution_count": 244,
     "metadata": {},
     "output_type": "execute_result"
    }
   ],
   "source": [
    "df.isna().sum()"
   ]
  },
  {
   "cell_type": "markdown",
   "metadata": {},
   "source": [
    "Посмотрим описательную статистику"
   ]
  },
  {
   "cell_type": "code",
   "execution_count": 245,
   "metadata": {},
   "outputs": [
    {
     "data": {
      "text/html": [
       "<div>\n",
       "<style scoped>\n",
       "    .dataframe tbody tr th:only-of-type {\n",
       "        vertical-align: middle;\n",
       "    }\n",
       "\n",
       "    .dataframe tbody tr th {\n",
       "        vertical-align: top;\n",
       "    }\n",
       "\n",
       "    .dataframe thead th {\n",
       "        text-align: right;\n",
       "    }\n",
       "</style>\n",
       "<table border=\"1\" class=\"dataframe\">\n",
       "  <thead>\n",
       "    <tr style=\"text-align: right;\">\n",
       "      <th></th>\n",
       "      <th>date</th>\n",
       "      <th>name</th>\n",
       "      <th>transaction</th>\n",
       "    </tr>\n",
       "  </thead>\n",
       "  <tbody>\n",
       "    <tr>\n",
       "      <th>count</th>\n",
       "      <td>5315</td>\n",
       "      <td>5315</td>\n",
       "      <td>5315</td>\n",
       "    </tr>\n",
       "    <tr>\n",
       "      <th>unique</th>\n",
       "      <td>3373</td>\n",
       "      <td>56</td>\n",
       "      <td>3</td>\n",
       "    </tr>\n",
       "    <tr>\n",
       "      <th>top</th>\n",
       "      <td>2020-03-02 00:33:10</td>\n",
       "      <td>Masha_Ozerova</td>\n",
       "      <td>successfull</td>\n",
       "    </tr>\n",
       "    <tr>\n",
       "      <th>freq</th>\n",
       "      <td>6</td>\n",
       "      <td>112</td>\n",
       "      <td>3692</td>\n",
       "    </tr>\n",
       "  </tbody>\n",
       "</table>\n",
       "</div>"
      ],
      "text/plain": [
       "                       date           name  transaction\n",
       "count                  5315           5315         5315\n",
       "unique                 3373             56            3\n",
       "top     2020-03-02 00:33:10  Masha_Ozerova  successfull\n",
       "freq                      6            112         3692"
      ]
     },
     "execution_count": 245,
     "metadata": {},
     "output_type": "execute_result"
    }
   ],
   "source": [
    "df.describe()"
   ]
  },
  {
   "cell_type": "markdown",
   "metadata": {},
   "source": [
    "#### 11. Проверьте, какие значения принимает колонка transaction . Сколько наблюдений относятся к тому или иному уровню?  Визуализируйте результат с помощью барплота.\n",
    "\n",
    "#### Вопрос: расположите уровни переменной в порядке убывания числа относящихся наблюдений (от большего к меньшему)"
   ]
  },
  {
   "cell_type": "markdown",
   "metadata": {},
   "source": [
    "Посмотрим какие значения и какое количество в колонке 'transaction'  \n",
    "Построим график"
   ]
  },
  {
   "cell_type": "code",
   "execution_count": 246,
   "metadata": {},
   "outputs": [
    {
     "data": {
      "image/png": "[encoded data removed]",
      "text/plain": [
       "<Figure size 640x480 with 1 Axes>"
      ]
     },
     "metadata": {},
     "output_type": "display_data"
    }
   ],
   "source": [
    "df.transaction.value_counts().plot.bar()\n",
    "plt.show()"
   ]
  },
  {
   "cell_type": "markdown",
   "metadata": {},
   "source": [
    "#### 12. Сколько произошло ошибок? "
   ]
  },
  {
   "cell_type": "markdown",
   "metadata": {},
   "source": [
    "Посмотрим на число ошибок"
   ]
  },
  {
   "cell_type": "code",
   "execution_count": 247,
   "metadata": {},
   "outputs": [
    {
     "data": {
      "text/plain": [
       "successfull    3692\n",
       "cancelled      1619\n",
       "error             4\n",
       "Name: transaction, dtype: int64"
      ]
     },
     "execution_count": 247,
     "metadata": {},
     "output_type": "execute_result"
    }
   ],
   "source": [
    "df.transaction.value_counts()"
   ]
  },
  {
   "cell_type": "markdown",
   "metadata": {},
   "source": [
    "#### 13. Сколько транзакций осуществил каждый из пользователей?  \n",
    "#### Осуществлёнными считаются транзакции со значением successfull\n",
    "\n",
    "Посмотрите на характеристики распределения, а затем постройте гистограмму числа успешных транзакций, совершённых каждым пользователем, где  \n",
    "\n",
    "по оси x – число транзакций  \n",
    "по оси y – доля пользователей с таким числом транзакций  \n",
    "Выберите верные утверждения.  \n",
    "\n",
    "\n",
    " • Пользователи в среднем совершили примерно по 66 транзакций  \n",
    " • Максимальное число транзакций – 82  \n",
    " • Пользователи в среднем совершили по 64 транзакции  \n",
    " • Примерно 25% пользователей совершили менее 61 транзакции  \n",
    " • Примерно 25% пользователей совершили более 61 транзакции  \n",
    " • Пользователи в среднем совершили примерно по 56 транзакций  \n",
    " • Максимальное число транзакций – 112  \n",
    " • Пользователи в среднем совершили примерно по 94 транзакции  \n"
   ]
  },
  {
   "cell_type": "markdown",
   "metadata": {},
   "source": [
    "Отберём только успешные транзакции  \n",
    "Посчитаем по каждому человеку  \n",
    "Отсортируем по убыванию  "
   ]
  },
  {
   "cell_type": "code",
   "execution_count": 248,
   "metadata": {},
   "outputs": [],
   "source": [
    "successfell_transaction =df.query(\"transaction == 'successfull'\") \\\n",
    "    .groupby('name', as_index = False) \\\n",
    "    .agg({'transaction': 'count'}) \\\n",
    "    .sort_values('transaction', ascending = False) \\\n",
    "    .rename (columns = {'transaction': 'successfell_transaction'}) \\\n",
    "    .reset_index (drop= True)"
   ]
  },
  {
   "cell_type": "code",
   "execution_count": 249,
   "metadata": {
    "scrolled": false
   },
   "outputs": [
    {
     "data": {
      "text/html": [
       "<div>\n",
       "<style scoped>\n",
       "    .dataframe tbody tr th:only-of-type {\n",
       "        vertical-align: middle;\n",
       "    }\n",
       "\n",
       "    .dataframe tbody tr th {\n",
       "        vertical-align: top;\n",
       "    }\n",
       "\n",
       "    .dataframe thead th {\n",
       "        text-align: right;\n",
       "    }\n",
       "</style>\n",
       "<table border=\"1\" class=\"dataframe\">\n",
       "  <thead>\n",
       "    <tr style=\"text-align: right;\">\n",
       "      <th></th>\n",
       "      <th>name</th>\n",
       "      <th>successfell_transaction</th>\n",
       "    </tr>\n",
       "  </thead>\n",
       "  <tbody>\n",
       "    <tr>\n",
       "      <th>0</th>\n",
       "      <td>Svetlana_Smirnova</td>\n",
       "      <td>82</td>\n",
       "    </tr>\n",
       "    <tr>\n",
       "      <th>1</th>\n",
       "      <td>Olga_Smirnova</td>\n",
       "      <td>80</td>\n",
       "    </tr>\n",
       "    <tr>\n",
       "      <th>2</th>\n",
       "      <td>Masha_Ozerova</td>\n",
       "      <td>80</td>\n",
       "    </tr>\n",
       "    <tr>\n",
       "      <th>3</th>\n",
       "      <td>Svetlana_Ivanova</td>\n",
       "      <td>79</td>\n",
       "    </tr>\n",
       "    <tr>\n",
       "      <th>4</th>\n",
       "      <td>Svetlana_Polyanova</td>\n",
       "      <td>78</td>\n",
       "    </tr>\n",
       "  </tbody>\n",
       "</table>\n",
       "</div>"
      ],
      "text/plain": [
       "                 name  successfell_transaction\n",
       "0   Svetlana_Smirnova                       82\n",
       "1       Olga_Smirnova                       80\n",
       "2       Masha_Ozerova                       80\n",
       "3    Svetlana_Ivanova                       79\n",
       "4  Svetlana_Polyanova                       78"
      ]
     },
     "execution_count": 249,
     "metadata": {},
     "output_type": "execute_result"
    }
   ],
   "source": [
    "successfell_transaction.head()"
   ]
  },
  {
   "cell_type": "markdown",
   "metadata": {},
   "source": [
    "Зададим размер графика  \n",
    "Укажем колонку df, которую необходимо визуализировать  "
   ]
  },
  {
   "cell_type": "code",
   "execution_count": 250,
   "metadata": {},
   "outputs": [
    {
     "data": {
      "image/png": "[encoded data removed]",
      "text/plain": [
       "<Figure size 900x600 with 1 Axes>"
      ]
     },
     "metadata": {},
     "output_type": "display_data"
    }
   ],
   "source": [
    "plt.figure(figsize= (9,6))\n",
    "sns.distplot(successfell_transaction.successfell_transaction, kde = False)\n",
    "plt.show()"
   ]
  },
  {
   "cell_type": "markdown",
   "metadata": {},
   "source": [
    "Таким образом, верны утверждения:   \n",
    "\n",
    "• Пользователи в среднем совершили примерно по 66 транзакций  \n",
    "• Максимальное число транзакций – 82  \n",
    "• Примерно 25% пользователей совершили менее 61 транзакции  "
   ]
  },
  {
   "cell_type": "markdown",
   "metadata": {},
   "source": [
    "#### 14. 💀 Сложное задание! 💀\n",
    "\n",
    "#### К вам пришёл коллега с немного обновленными данными. Постройте сводную таблицу user_vs_minute_pivot, где:  \n",
    "\n",
    "столбцы – имена пользователей  \n",
    "строки – минута времени осуществления операции (minute)  \n",
    "значения – число совершённых операций  \n",
    "Пропущенные значения заполните нулями.  \n",
    "\n",
    "#### Note: фильтровать успешные транзакции не нужно - постройте табличку по всем  \n",
    "\n",
    "#### Новые данные сохранены в df.   "
   ]
  },
  {
   "cell_type": "markdown",
   "metadata": {},
   "source": [
    "Считаем обновленный df"
   ]
  },
  {
   "cell_type": "code",
   "execution_count": 251,
   "metadata": {},
   "outputs": [],
   "source": [
    "df = pd.read_csv('https://raw.githubusercontent.com/Vlkoz/time_format_and_pivot_tables/main/files/transaction_data_updated.csv')"
   ]
  },
  {
   "cell_type": "markdown",
   "metadata": {},
   "source": [
    "Сгруппируем по имени и минутам  \n",
    "Посчитаем количество операций по минутам  \n",
    "Воспользуемся методом pivot, зададим нужные нам значения  \n",
    "Заполним пропущенные значения нулями  "
   ]
  },
  {
   "cell_type": "code",
   "execution_count": 252,
   "metadata": {},
   "outputs": [],
   "source": [
    "user_vs_minute_pivot = df.groupby(['name', 'minute'], as_index = False) \\\n",
    "    .agg({'date': 'count'}) \\\n",
    "    .rename (columns = {'date': 'amount'}) \\\n",
    "    .pivot(index = 'minute', columns = 'name', values = 'amount') \\\n",
    "    .reset_index(drop = True) \\\n",
    "    .fillna(0)"
   ]
  },
  {
   "cell_type": "code",
   "execution_count": 253,
   "metadata": {},
   "outputs": [
    {
     "data": {
      "text/html": [
       "<div>\n",
       "<style scoped>\n",
       "    .dataframe tbody tr th:only-of-type {\n",
       "        vertical-align: middle;\n",
       "    }\n",
       "\n",
       "    .dataframe tbody tr th {\n",
       "        vertical-align: top;\n",
       "    }\n",
       "\n",
       "    .dataframe thead th {\n",
       "        text-align: right;\n",
       "    }\n",
       "</style>\n",
       "<table border=\"1\" class=\"dataframe\">\n",
       "  <thead>\n",
       "    <tr style=\"text-align: right;\">\n",
       "      <th>name</th>\n",
       "      <th>Ekaterina_Fedorova</th>\n",
       "      <th>Ekaterina_Ivanova</th>\n",
       "      <th>Ekaterina_Lesnova</th>\n",
       "      <th>Ekaterina_Ozerova</th>\n",
       "      <th>Ekaterina_Petrova</th>\n",
       "      <th>Ekaterina_Polyanova</th>\n",
       "      <th>Ekaterina_Smirnova</th>\n",
       "      <th>Irina_Fedorova</th>\n",
       "      <th>Irina_Ivanova</th>\n",
       "      <th>Irina_Lesnova</th>\n",
       "      <th>...</th>\n",
       "      <th>Svetlana_Petrova</th>\n",
       "      <th>Svetlana_Polyanova</th>\n",
       "      <th>Svetlana_Smirnova</th>\n",
       "      <th>Vasilisa_Fedorova</th>\n",
       "      <th>Vasilisa_Ivanova</th>\n",
       "      <th>Vasilisa_Lesnova</th>\n",
       "      <th>Vasilisa_Ozerova</th>\n",
       "      <th>Vasilisa_Petrova</th>\n",
       "      <th>Vasilisa_Polyanova</th>\n",
       "      <th>Vasilisa_Smirnova</th>\n",
       "    </tr>\n",
       "  </thead>\n",
       "  <tbody>\n",
       "    <tr>\n",
       "      <th>0</th>\n",
       "      <td>3.0</td>\n",
       "      <td>4.0</td>\n",
       "      <td>2.0</td>\n",
       "      <td>3.0</td>\n",
       "      <td>4.0</td>\n",
       "      <td>4.0</td>\n",
       "      <td>2.0</td>\n",
       "      <td>1.0</td>\n",
       "      <td>2.0</td>\n",
       "      <td>2.0</td>\n",
       "      <td>...</td>\n",
       "      <td>0.0</td>\n",
       "      <td>3.0</td>\n",
       "      <td>1.0</td>\n",
       "      <td>1.0</td>\n",
       "      <td>4.0</td>\n",
       "      <td>1.0</td>\n",
       "      <td>3.0</td>\n",
       "      <td>0.0</td>\n",
       "      <td>0.0</td>\n",
       "      <td>1.0</td>\n",
       "    </tr>\n",
       "    <tr>\n",
       "      <th>1</th>\n",
       "      <td>4.0</td>\n",
       "      <td>4.0</td>\n",
       "      <td>0.0</td>\n",
       "      <td>4.0</td>\n",
       "      <td>2.0</td>\n",
       "      <td>5.0</td>\n",
       "      <td>4.0</td>\n",
       "      <td>4.0</td>\n",
       "      <td>4.0</td>\n",
       "      <td>3.0</td>\n",
       "      <td>...</td>\n",
       "      <td>4.0</td>\n",
       "      <td>5.0</td>\n",
       "      <td>3.0</td>\n",
       "      <td>2.0</td>\n",
       "      <td>3.0</td>\n",
       "      <td>3.0</td>\n",
       "      <td>0.0</td>\n",
       "      <td>0.0</td>\n",
       "      <td>3.0</td>\n",
       "      <td>2.0</td>\n",
       "    </tr>\n",
       "    <tr>\n",
       "      <th>2</th>\n",
       "      <td>1.0</td>\n",
       "      <td>2.0</td>\n",
       "      <td>4.0</td>\n",
       "      <td>4.0</td>\n",
       "      <td>2.0</td>\n",
       "      <td>1.0</td>\n",
       "      <td>3.0</td>\n",
       "      <td>2.0</td>\n",
       "      <td>3.0</td>\n",
       "      <td>3.0</td>\n",
       "      <td>...</td>\n",
       "      <td>4.0</td>\n",
       "      <td>1.0</td>\n",
       "      <td>3.0</td>\n",
       "      <td>3.0</td>\n",
       "      <td>0.0</td>\n",
       "      <td>1.0</td>\n",
       "      <td>2.0</td>\n",
       "      <td>1.0</td>\n",
       "      <td>3.0</td>\n",
       "      <td>1.0</td>\n",
       "    </tr>\n",
       "    <tr>\n",
       "      <th>3</th>\n",
       "      <td>3.0</td>\n",
       "      <td>0.0</td>\n",
       "      <td>2.0</td>\n",
       "      <td>0.0</td>\n",
       "      <td>5.0</td>\n",
       "      <td>2.0</td>\n",
       "      <td>1.0</td>\n",
       "      <td>3.0</td>\n",
       "      <td>2.0</td>\n",
       "      <td>2.0</td>\n",
       "      <td>...</td>\n",
       "      <td>1.0</td>\n",
       "      <td>5.0</td>\n",
       "      <td>5.0</td>\n",
       "      <td>2.0</td>\n",
       "      <td>4.0</td>\n",
       "      <td>0.0</td>\n",
       "      <td>3.0</td>\n",
       "      <td>4.0</td>\n",
       "      <td>1.0</td>\n",
       "      <td>0.0</td>\n",
       "    </tr>\n",
       "    <tr>\n",
       "      <th>4</th>\n",
       "      <td>3.0</td>\n",
       "      <td>0.0</td>\n",
       "      <td>0.0</td>\n",
       "      <td>3.0</td>\n",
       "      <td>1.0</td>\n",
       "      <td>1.0</td>\n",
       "      <td>2.0</td>\n",
       "      <td>3.0</td>\n",
       "      <td>2.0</td>\n",
       "      <td>1.0</td>\n",
       "      <td>...</td>\n",
       "      <td>1.0</td>\n",
       "      <td>2.0</td>\n",
       "      <td>2.0</td>\n",
       "      <td>1.0</td>\n",
       "      <td>1.0</td>\n",
       "      <td>2.0</td>\n",
       "      <td>2.0</td>\n",
       "      <td>3.0</td>\n",
       "      <td>0.0</td>\n",
       "      <td>1.0</td>\n",
       "    </tr>\n",
       "  </tbody>\n",
       "</table>\n",
       "<p>5 rows × 56 columns</p>\n",
       "</div>"
      ],
      "text/plain": [
       "name  Ekaterina_Fedorova  Ekaterina_Ivanova  Ekaterina_Lesnova  \\\n",
       "0                    3.0                4.0                2.0   \n",
       "1                    4.0                4.0                0.0   \n",
       "2                    1.0                2.0                4.0   \n",
       "3                    3.0                0.0                2.0   \n",
       "4                    3.0                0.0                0.0   \n",
       "\n",
       "name  Ekaterina_Ozerova  Ekaterina_Petrova  Ekaterina_Polyanova  \\\n",
       "0                   3.0                4.0                  4.0   \n",
       "1                   4.0                2.0                  5.0   \n",
       "2                   4.0                2.0                  1.0   \n",
       "3                   0.0                5.0                  2.0   \n",
       "4                   3.0                1.0                  1.0   \n",
       "\n",
       "name  Ekaterina_Smirnova  Irina_Fedorova  Irina_Ivanova  Irina_Lesnova  ...  \\\n",
       "0                    2.0             1.0            2.0            2.0  ...   \n",
       "1                    4.0             4.0            4.0            3.0  ...   \n",
       "2                    3.0             2.0            3.0            3.0  ...   \n",
       "3                    1.0             3.0            2.0            2.0  ...   \n",
       "4                    2.0             3.0            2.0            1.0  ...   \n",
       "\n",
       "name  Svetlana_Petrova  Svetlana_Polyanova  Svetlana_Smirnova  \\\n",
       "0                  0.0                 3.0                1.0   \n",
       "1                  4.0                 5.0                3.0   \n",
       "2                  4.0                 1.0                3.0   \n",
       "3                  1.0                 5.0                5.0   \n",
       "4                  1.0                 2.0                2.0   \n",
       "\n",
       "name  Vasilisa_Fedorova  Vasilisa_Ivanova  Vasilisa_Lesnova  Vasilisa_Ozerova  \\\n",
       "0                   1.0               4.0               1.0               3.0   \n",
       "1                   2.0               3.0               3.0               0.0   \n",
       "2                   3.0               0.0               1.0               2.0   \n",
       "3                   2.0               4.0               0.0               3.0   \n",
       "4                   1.0               1.0               2.0               2.0   \n",
       "\n",
       "name  Vasilisa_Petrova  Vasilisa_Polyanova  Vasilisa_Smirnova  \n",
       "0                  0.0                 0.0                1.0  \n",
       "1                  0.0                 3.0                2.0  \n",
       "2                  1.0                 3.0                1.0  \n",
       "3                  4.0                 1.0                0.0  \n",
       "4                  3.0                 0.0                1.0  \n",
       "\n",
       "[5 rows x 56 columns]"
      ]
     },
     "execution_count": 253,
     "metadata": {},
     "output_type": "execute_result"
    }
   ],
   "source": [
    "user_vs_minute_pivot.head()"
   ]
  },
  {
   "cell_type": "markdown",
   "metadata": {},
   "source": [
    "#### 15. Посчитайте число минут, прошедших с начала дня. Результат сохраните в колонку true_minute. Постройте график и посмотрите, произошли ли изменения (график в код включать не нужно).\n",
    "\n",
    "Например:  \n",
    "\n",
    "date                name               transaction  minute  true_minute  \n",
    "2020-03-02 00:37:20 Ekaterina_Petrova  cancelled    37      37  \n",
    "2020-03-02 01:06:14 Ekaterina_Smirnova successfull  6       66  \n",
    "\n",
    "#### Данные записаны в df , колонка date прочитана как дата.   "
   ]
  },
  {
   "cell_type": "markdown",
   "metadata": {},
   "source": [
    "Переведем колонку date в формат даты"
   ]
  },
  {
   "cell_type": "code",
   "execution_count": 254,
   "metadata": {},
   "outputs": [],
   "source": [
    "df['date'] = pd.to_datetime(df ['date'])"
   ]
  },
  {
   "cell_type": "markdown",
   "metadata": {},
   "source": [
    "Извлечем из даты часы и умножим их на 60, чтобы перевести в минуты, прибавим колонку с минутами  \n",
    "Получившийся результат поместим в колонку true_minute  "
   ]
  },
  {
   "cell_type": "code",
   "execution_count": 255,
   "metadata": {},
   "outputs": [],
   "source": [
    "df['true_minute'] = df.date.dt.hour*60 +df.minute"
   ]
  },
  {
   "cell_type": "markdown",
   "metadata": {},
   "source": [
    "Построим дисплот"
   ]
  },
  {
   "cell_type": "code",
   "execution_count": 256,
   "metadata": {
    "scrolled": false
   },
   "outputs": [
    {
     "data": {
      "image/png": "[encoded data removed]",
      "text/plain": [
       "<Figure size 500x500 with 1 Axes>"
      ]
     },
     "metadata": {},
     "output_type": "display_data"
    }
   ],
   "source": [
    "sns.displot(data = df, x= 'true_minute', kde= True)\n",
    "plt.show()"
   ]
  }
 ],
 "metadata": {
  "kernelspec": {
   "display_name": "Python 3 (ipykernel)",
   "language": "python",
   "name": "python3"
  },
  "language_info": {
   "codemirror_mode": {
    "name": "ipython",
    "version": 3
   },
   "file_extension": ".py",
   "mimetype": "text/x-python",
   "name": "python",
   "nbconvert_exporter": "python",
   "pygments_lexer": "ipython3",
   "version": "3.9.13"
  }
 },
 "nbformat": 4,
 "nbformat_minor": 4
}
